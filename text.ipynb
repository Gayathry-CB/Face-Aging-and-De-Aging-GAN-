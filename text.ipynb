{
 "cells": [
  {
   "cell_type": "code",
   "execution_count": 48,
   "id": "71c76663-6f83-40d9-9024-a67b6e9e9b6c",
   "metadata": {},
   "outputs": [
    {
     "name": "stdout",
     "output_type": "stream",
     "text": [
      "Successfully copied 500 images from /home/gayathri/GAN_FaceAging_Project/data/young_faces to /home/gayathri/GAN_FaceAging_Project/data/selected_images/young\n",
      "Successfully copied 500 images from /home/gayathri/GAN_FaceAging_Project/data/middle_aged_faces to /home/gayathri/GAN_FaceAging_Project/data/selected_images/mid_aged\n",
      "Successfully copied 500 images from /home/gayathri/GAN_FaceAging_Project/data/old_faces to /home/gayathri/GAN_FaceAging_Project/data/selected_images/old\n"
     ]
    }
   ],
   "source": [
    "import os\n",
    "import random\n",
    "import shutil\n",
    "\n",
    "def select_random_images(source_folder, destination_folder, num_images=500):\n",
    "    \"\"\"\n",
    "    Selects a random subset of images from a source folder and copies them to a destination folder.\n",
    "    \n",
    "    Parameters:\n",
    "    source_folder (str): Path to the source folder containing images.\n",
    "    destination_folder (str): Path to the destination folder where selected images will be copied.\n",
    "    num_images (int): Number of images to select randomly.\n",
    "    \"\"\"\n",
    "    \n",
    "    # Ensure destination folder exists\n",
    "    os.makedirs(destination_folder, exist_ok=True)\n",
    "    \n",
    "    # Get list of all images in the source folder\n",
    "    all_images = [f for f in os.listdir(source_folder) if f.lower().endswith(('.jpg', '.jpeg', '.png'))]\n",
    "    \n",
    "    # Ensure there are enough images to sample\n",
    "    if len(all_images) < num_images:\n",
    "        print(f\"Not enough images in {source_folder}. Found {len(all_images)}, selecting all.\")\n",
    "        selected_images = all_images  # Select all images if less than required\n",
    "    else:\n",
    "        selected_images = random.sample(all_images, num_images)\n",
    "    \n",
    "    # Copy selected images to the destination folder\n",
    "    for img in selected_images:\n",
    "        shutil.copy(os.path.join(source_folder, img), os.path.join(destination_folder, img))\n",
    "    \n",
    "    print(f\"Successfully copied {len(selected_images)} images from {source_folder} to {destination_folder}\")\n",
    "\n",
    "# Define source and destination folders (Assuming all folders are in the same directory as the Jupyter notebook)\n",
    "base_dir = os.getcwd()  # Get the current working directory\n",
    "\n",
    "folders = {\n",
    "    \"young\": os.path.join(base_dir, \"young_faces\"),\n",
    "    \"middle_aged\": os.path.join(base_dir, \"middle_aged_faces\"),\n",
    "    \"old\": os.path.join(base_dir, \"old_faces\")\n",
    "}\n",
    "\n",
    "destination_base = os.path.join(base_dir, \"selected_images\")  # Store selected images in a new directory\n",
    "\n",
    "destination_names = {\n",
    "    \"young\": \"young\",\n",
    "    \"middle_aged\": \"mid_aged\",\n",
    "    \"old\": \"old\"\n",
    "}\n",
    "\n",
    "# Run the selection process for each category\n",
    "for category, path in folders.items():\n",
    "    destination_path = os.path.join(destination_base, destination_names[category])\n",
    "    select_random_images(path, destination_path, num_images=500)"
   ]
  },
  {
   "cell_type": "code",
   "execution_count": null,
   "id": "1b8be6d8-8c49-4ba9-a33c-766cd8442dfa",
   "metadata": {},
   "outputs": [],
   "source": []
  }
 ],
 "metadata": {
  "kernelspec": {
   "display_name": "Python 3 (ipykernel)",
   "language": "python",
   "name": "python3"
  },
  "language_info": {
   "codemirror_mode": {
    "name": "ipython",
    "version": 3
   },
   "file_extension": ".py",
   "mimetype": "text/x-python",
   "name": "python",
   "nbconvert_exporter": "python",
   "pygments_lexer": "ipython3",
   "version": "3.10.12"
  }
 },
 "nbformat": 4,
 "nbformat_minor": 5
}
